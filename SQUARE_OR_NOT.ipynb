{
 "cells": [
  {
   "cell_type": "markdown",
   "id": "a3a80822-6a33-4611-a3f5-212b8be08e3a",
   "metadata": {},
   "source": [
    "***Take values of length and breadth of a rectangle from user and check if it is square or not***\n"
   ]
  },
  {
   "cell_type": "code",
   "execution_count": 2,
   "id": "d4a54007-cba9-43cc-93e5-7630dbe0c9ec",
   "metadata": {},
   "outputs": [
    {
     "name": "stdin",
     "output_type": "stream",
     "text": [
      "Enter the length 6\n",
      "Enter the breadth 5\n"
     ]
    },
    {
     "name": "stdout",
     "output_type": "stream",
     "text": [
      "Not a Square\n"
     ]
    }
   ],
   "source": [
    "l=int(input(\"Enter the length\"))\n",
    "b=int(input(\"Enter the breadth\"))\n",
    "if l==b:\n",
    "    print(\"Square\")\n",
    "else:\n",
    "    print(\"Not a Square\")"
   ]
  },
  {
   "cell_type": "code",
   "execution_count": 3,
   "id": "133bb6a4-37d7-4eb5-b3f8-986c587f6995",
   "metadata": {},
   "outputs": [
    {
     "name": "stdin",
     "output_type": "stream",
     "text": [
      "Enter the length 8\n",
      "Enter the breadth 8\n"
     ]
    },
    {
     "name": "stdout",
     "output_type": "stream",
     "text": [
      "Square\n"
     ]
    }
   ],
   "source": [
    "l=int(input(\"Enter the length\"))\n",
    "b=int(input(\"Enter the breadth\"))\n",
    "if l==b:\n",
    "    print(\"Square\")\n",
    "else:\n",
    "    print(\"Not a Square\")\n",
    "    "
   ]
  },
  {
   "cell_type": "code",
   "execution_count": null,
   "id": "6f80c5e7-c8c4-4e46-90b5-908c512e6acd",
   "metadata": {},
   "outputs": [],
   "source": []
  }
 ],
 "metadata": {
  "kernelspec": {
   "display_name": "Python 3 (ipykernel)",
   "language": "python",
   "name": "python3"
  },
  "language_info": {
   "codemirror_mode": {
    "name": "ipython",
    "version": 3
   },
   "file_extension": ".py",
   "mimetype": "text/x-python",
   "name": "python",
   "nbconvert_exporter": "python",
   "pygments_lexer": "ipython3",
   "version": "3.13.5"
  }
 },
 "nbformat": 4,
 "nbformat_minor": 5
}
