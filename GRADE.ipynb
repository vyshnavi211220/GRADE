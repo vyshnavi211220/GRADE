{
 "cells": [
  {
   "cell_type": "markdown",
   "id": "d7a1eeba-f9a5-4803-ac63-36a702d2ef9f",
   "metadata": {},
   "source": [
    "***A school has following rules for grading system:\n",
    "\n",
    "a. Below 25- F\n",
    "b. 25 to 45- E\n",
    "C. 45 to 50- D                            \n",
    "d. 50 to 60- C\n",
    "e. 60 to 80 -B  \n",
    "f. Above 80 -A\n",
    "\n",
    "Ask user to enter marks and print curresponding grade***"
   ]
  },
  {
   "cell_type": "code",
   "execution_count": 23,
   "id": "23659a58-c432-41e0-9482-480cb52865e0",
   "metadata": {},
   "outputs": [
    {
     "name": "stdin",
     "output_type": "stream",
     "text": [
      "Enter the marks 50\n"
     ]
    },
    {
     "name": "stdout",
     "output_type": "stream",
     "text": [
      "C\n"
     ]
    }
   ],
   "source": [
    "x=int(input(\"Enter the marks\"))\n",
    "if x<25:\n",
    "   print(\"F\")\n",
    "elif 25<=x<45:\n",
    "    print(\"E\")\n",
    "elif 45<=x<50:\n",
    "    print(\"D\")\n",
    "elif 50<=x<60:\n",
    "    print(\"C\")\n",
    "elif 60<=x<80:\n",
    "    print(\"B\")\n",
    "elif x>80:\n",
    "    print(\"A\")\n",
    "\n",
    "    "
   ]
  },
  {
   "cell_type": "code",
   "execution_count": 24,
   "id": "779df645-b535-4370-bc50-f88b19456598",
   "metadata": {},
   "outputs": [
    {
     "name": "stdin",
     "output_type": "stream",
     "text": [
      "Enter the marks 24\n"
     ]
    },
    {
     "name": "stdout",
     "output_type": "stream",
     "text": [
      "F\n"
     ]
    }
   ],
   "source": [
    "x=int(input(\"Enter the marks\"))\n",
    "if x<25:\n",
    "   print(\"F\")\n",
    "elif x>=25 and x<45:\n",
    "    print(\"E\")\n",
    "elif x>=45 and x<50:\n",
    "    print(\"D\")\n",
    "elif x>=50 and x<60:\n",
    "    print(\"C\")\n",
    "elif x>=60 and x<80:\n",
    "    print(\"B\")\n",
    "elif x>80:\n",
    "    print(\"A\")"
   ]
  },
  {
   "cell_type": "code",
   "execution_count": 22,
   "id": "851f1292-e3fe-4a81-b147-f3be72bbf1c1",
   "metadata": {},
   "outputs": [
    {
     "name": "stdin",
     "output_type": "stream",
     "text": [
      "Enter the marks 77\n"
     ]
    },
    {
     "name": "stdout",
     "output_type": "stream",
     "text": [
      "B\n"
     ]
    }
   ],
   "source": [
    "x=int(input(\"Enter the marks\"))\n",
    "if x<25:\n",
    "   print(\"F\")\n",
    "elif x>=25 and x<45:\n",
    "    print(\"E\")\n",
    "elif 45<=x<50:\n",
    "    print(\"D\")\n",
    "elif 50<=x<60:\n",
    "    print(\"C\")\n",
    "elif 60<=x<80:\n",
    "    print(\"B\")\n",
    "elif x>80:\n",
    "    print(\"A\")"
   ]
  },
  {
   "cell_type": "code",
   "execution_count": null,
   "id": "1861bc92-376d-4b87-a159-d6d95032bf47",
   "metadata": {},
   "outputs": [],
   "source": []
  }
 ],
 "metadata": {
  "kernelspec": {
   "display_name": "Python 3 (ipykernel)",
   "language": "python",
   "name": "python3"
  },
  "language_info": {
   "codemirror_mode": {
    "name": "ipython",
    "version": 3
   },
   "file_extension": ".py",
   "mimetype": "text/x-python",
   "name": "python",
   "nbconvert_exporter": "python",
   "pygments_lexer": "ipython3",
   "version": "3.13.5"
  }
 },
 "nbformat": 4,
 "nbformat_minor": 5
}
